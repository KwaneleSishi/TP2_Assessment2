{
 "cells": [
  {
   "cell_type": "code",
   "execution_count": 2,
   "id": "44456010-fa32-416d-8e2a-df11fa4fd7b1",
   "metadata": {},
   "outputs": [],
   "source": [
    "''' \tSR 4.1: Algorithm Implementation: Sort algorithm (30 marks):\n",
    "For optimization and performance purpose, implement any sort algorithm between bubble sort, insertion sort and selection to sort any column in your dataset in either ascending or descending order (your choice). Use only ONE sort algorithm from the ones mentioned. \n",
    "'''\n",
    "import pandas as pd \n",
    "df = pd.read_csv('C:\\\\Users\\\\HP\\\\Documents\\\\TPtest\\\\Informal-Settlement-Matrix.csv')"
   ]
  },
  {
   "cell_type": "code",
   "execution_count": 6,
   "id": "40fe6559-9767-48c8-9ef9-60c7579d6250",
   "metadata": {},
   "outputs": [
    {
     "name": "stdout",
     "output_type": "stream",
     "text": [
      "\n",
      "Column after sorting 'avg_hhsize' column in ascending order:\n",
      "[2.19, 2.23, 2.35, 2.53, 2.53, 2.53, 2.53, 2.53, 2.57, 2.57, 2.57, 2.57, 2.57, 2.57, 2.57, 2.57, 2.57, 2.57, 2.57, 2.57, 2.57, 2.57, 2.57, 2.57, 2.57, 2.57, 2.57, 2.57, 2.57, 2.68, 2.68, 2.68, 2.68, 2.68, 2.68, 2.68, 2.76, 2.77, 2.77, 2.77, 2.77, 2.77, 2.77, 2.77, 2.77, 2.77, 2.77, 2.77, 2.77, 2.77, 2.77, 2.84, 2.84, 2.84, 2.84, 2.84, 2.84, 2.84, 2.84, 2.84, 2.85, 2.86, 2.88, 2.88, 2.88, 2.88, 2.88, 2.88, 2.88, 2.88, 2.88, 2.88, 2.88, 2.88, 2.88, 2.89, 2.89, 2.89, 2.89, 2.89, 2.89, 2.89, 2.89, 2.89, 2.89, 2.89, 2.89, 2.89, 2.89, 2.89, 2.89, 2.89, 2.89, 2.89, 2.89, 2.89, 2.89, 2.89, 2.89, 2.89, 2.89, 2.89, 2.89, 2.89, 2.89, 2.89, 2.89, 2.89, 2.89, 2.9, 2.91, 2.91, 2.91, 2.91, 2.91, 2.91, 2.91, 2.91, 2.91, 2.91, 2.91, 2.91, 2.91, 2.91, 2.91, 2.91, 2.91, 2.91, 2.91, 2.91, 2.91, 2.91, 2.91, 2.91, 2.91, 2.91, 2.97, 2.97, 2.97, 2.97, 2.97, 2.97, 2.97, 2.97, 2.97, 2.97, 2.97, 2.97, 2.97, 2.97, 2.97, 2.97, 2.97, 2.97, 2.97, 2.97, 3.06, 3.06, 3.06, 3.06, 3.06, 3.06, 3.06, 3.06, 3.06, 3.06, 3.06, 3.06, 3.06, 3.06, 3.06, 3.06, 3.06, 3.06, 3.06, 3.06, 3.06, 3.06, 3.06, 3.06, 3.06, 3.06, 3.06, 3.06, 3.06, 3.06, 3.06, 3.06, 3.06, 3.06, 3.06, 3.06, 3.06, 3.06, 3.08, 3.08, 3.08, 3.16, 3.16, 3.16, 3.16, 3.16, 3.17, 3.17, 3.17, 3.17, 3.17, 3.23, 3.23, 3.23, 3.23, 3.23, 3.23, 3.23, 3.23, 3.23, 3.23, 3.23, 3.23, 3.24, 3.28, 3.28, 3.28, 3.34, 3.34, 3.34, 3.34, 3.34, 3.34, 3.34, 3.34, 3.34, 3.36, 3.36, 3.36, 3.36, 3.36, 3.36, 3.36, 3.36, 3.36, 3.4, 3.4, 3.4, 3.4, 3.41, 3.41, 3.41, 3.41, 3.41, 3.41, 3.41, 3.41, 3.41, 3.41, 3.41, 3.41, 3.45, 3.45, 3.45, 3.45, 3.45, 3.45, 3.45, 3.45, 3.45, 3.45, 3.45, 3.45, 3.45, 3.47, 3.48, 3.48, 3.48, 3.48, 3.5, 3.5, 3.5, 3.5, 3.5, 3.5, 3.5, 3.5, 3.5, 3.5, 3.5, 3.5, 3.5, 3.5, 3.5, 3.5, 3.5, 3.5, 3.5, 3.5, 3.5, 3.5, 3.5, 3.5, 3.5, 3.5, 3.5, 3.5, 3.5, 3.58, 3.58, 3.58, 3.58, 3.7, 3.7, 3.7, 3.7, 3.7, 3.7, 3.7, 3.7, 3.7, 3.7, 3.7, 3.71, 3.71, 3.71, 3.71, 3.71, 3.71, 3.71, 3.71, 3.71, 3.71, 3.71, 3.71, 3.71, 3.71, 3.71, 3.71, 3.72, 3.72, 3.72, 3.72, 3.72, 3.72, 3.73, 3.8, 3.81, 3.82, 3.82, 3.82, 3.82, 3.85, 3.85, 3.85, 3.85, 3.85, 3.86, 3.86, 3.86, 3.86, 3.87, 3.9, 3.9, 3.9, 3.9, 3.9, 3.95, 3.95, 3.95, 3.95, 3.95, 3.98, 3.98, 3.98, 3.98, 3.98, 4.0, 4.0, 4.0, 4.0, 4.0, 4.0, 4.0, 4.09, 4.09, 4.09, 4.09, 4.09, 4.09, 4.11, 4.11, 4.11, 4.11, 4.11, 4.12, 4.12, 4.12, 4.12, 4.14, 4.14, 4.14, 4.16, 4.17, 4.17, 4.17, 4.17, 4.17, 4.17, 4.17, 4.17, 4.26, 4.26, 4.26, 4.26, 4.26, 4.26, 4.26, 4.26, 4.26, 4.43, 4.46, 4.5, 4.51, 4.51, 4.55, 4.55, 4.56, 4.57, 4.57, 4.57, 4.57, 4.67, 4.67, 4.67, 4.67, 5.11, 5.11]\n"
     ]
    }
   ],
   "source": [
    "# Extracting the Average Household Size 'avg_hhsize' column to sort\n",
    "avg_hhsize = df['avg_hhsize'].tolist()\n",
    "\n",
    "# Insertion Sort function\n",
    "def insertion_sort(arr):\n",
    "    for i in range(1, len(arr)):\n",
    "        j = i\n",
    "        while j > 0 and arr[j - 1] > arr[j]:\n",
    "            arr[j - 1], arr[j] = arr[j], arr[j - 1]\n",
    "            j -= 1\n",
    "    return arr\n",
    "\n",
    "# Sorting the 'avg_hhsize' column using Insertion Sort\n",
    "sorted_avg_hhsize = insertion_sort(avg_hhsize)\n",
    "\n",
    "# Display the sorted DataFrame\n",
    "print(\"\\nColumn after sorting 'avg_hhsize' column in ascending order:\")\n",
    "print(avg_hhsize)"
   ]
  },
  {
   "cell_type": "code",
   "execution_count": null,
   "id": "223a008b-e543-4ddd-8c8d-1709bc1b09b5",
   "metadata": {},
   "outputs": [],
   "source": []
  }
 ],
 "metadata": {
  "kernelspec": {
   "display_name": "Python 3 (ipykernel)",
   "language": "python",
   "name": "python3"
  },
  "language_info": {
   "codemirror_mode": {
    "name": "ipython",
    "version": 3
   },
   "file_extension": ".py",
   "mimetype": "text/x-python",
   "name": "python",
   "nbconvert_exporter": "python",
   "pygments_lexer": "ipython3",
   "version": "3.12.2"
  }
 },
 "nbformat": 4,
 "nbformat_minor": 5
}
