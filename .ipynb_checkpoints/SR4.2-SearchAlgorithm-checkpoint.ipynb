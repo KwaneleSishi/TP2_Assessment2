{
 "cells": [
  {
   "cell_type": "code",
   "execution_count": 5,
   "id": "d8f69c04-1616-4b35-9e6e-40c637acc982",
   "metadata": {},
   "outputs": [
    {
     "data": {
      "text/plain": [
       "' \\tSR 4.2: Algorithm Implementation: Search algorithm (20 marks):\\nMachine learning algorithms use inputs from the user in order to search for the best answer to provide to the user. Many well known search engines such as Google, bing, and AI information generators such as chatgpt, jenni ai, etc uses search algorithms in order to provide the best answer to the user. In this subject you have learned 2 searching algorithms namely linear and binary search. \\no\\tExplain which of these algorithms performs faster and provide reasons using a markdown cell in your jupyter notebook. \\t\\t\\t(6)\\no\\tWrite a python code that will search for a specific element in your dataset using both algorithms.\\n'"
      ]
     },
     "execution_count": 5,
     "metadata": {},
     "output_type": "execute_result"
    }
   ],
   "source": [
    "''' \tSR 4.2: Algorithm Implementation: Search algorithm (20 marks):\n",
    "Machine learning algorithms use inputs from the user in order to search for the best answer to provide to the user. Many well known search engines such as Google, bing, and AI information generators such as chatgpt, jenni ai, etc uses search algorithms in order to provide the best answer to the user. In this subject you have learned 2 searching algorithms namely linear and binary search. \n",
    "o\tExplain which of these algorithms performs faster and provide reasons using a markdown cell in your jupyter notebook. \t\t\t(6)\n",
    "o\tWrite a python code that will search for a specific element in your dataset using both algorithms.\n",
    "'''"
   ]
  },
  {
   "cell_type": "code",
   "execution_count": 8,
   "id": "66c66220-a5dc-4748-9798-50a5a60eaabd",
   "metadata": {},
   "outputs": [
    {
     "data": {
      "text/plain": [
       "'Comparison of Linear Search and Binary Search\\nLinear Search\\nLinear search is a straightforward algorithm that checks each element in the list sequentially until the target element is found or the end of the list is reached. This algorithm is simple to implement and does not require the list to be sorted.\\n- **Time Complexity**: O(n) in the worst case, where n is the number of elements in the list.\\n- **Space Complexity**: O(1), as it requires a constant amount of additional memory.\\n- **Use Case**: Best used when the list is unsorted or very small.\\n\\nBinary Search\\nBinary search is a more efficient algorithm that works by repeatedly dividing the search interval in half. The algorithm starts with the entire sorted list and compares the target value to the middle element. If the target value is less than the middle element, the search continues on the left half; otherwise, it continues on the right half. This process repeats until the target value is found or the interval is empty.\\n- **Time Complexity**: O(log n) in the worst case, where n is the number of elements in the list.\\n- **Space Complexity**: O(1) for the iterative version and O(log n) for the recursive version due to the call stack.\\n- **Use Case**: Best used when the list is sorted and large.\\n\\nConclusion\\nBinary search is generally more efficient and performs faster than linear search for large and sorted datasets. However, linear search can be advantageous for small or unsorted datasets due to its simplicity and minimal requirements.'"
      ]
     },
     "execution_count": 8,
     "metadata": {},
     "output_type": "execute_result"
    }
   ],
   "source": [
    "'''Comparison of Linear Search and Binary Search\n",
    "Linear Search\n",
    "Linear search is a straightforward algorithm that checks each element in the list sequentially until the target element is found or the end of the list is reached. This algorithm is simple to implement and does not require the list to be sorted.\n",
    "- **Time Complexity**: O(n) in the worst case, where n is the number of elements in the list.\n",
    "- **Space Complexity**: O(1), as it requires a constant amount of additional memory.\n",
    "- **Use Case**: Best used when the list is unsorted or very small.\n",
    "\n",
    "Binary Search\n",
    "Binary search is a more efficient algorithm that works by repeatedly dividing the search interval in half. The algorithm starts with the entire sorted list and compares the target value to the middle element. If the target value is less than the middle element, the search continues on the left half; otherwise, it continues on the right half. This process repeats until the target value is found or the interval is empty.\n",
    "- **Time Complexity**: O(log n) in the worst case, where n is the number of elements in the list.\n",
    "- **Space Complexity**: O(1) for the iterative version and O(log n) for the recursive version due to the call stack.\n",
    "- **Use Case**: Best used when the list is sorted and large.\n",
    "\n",
    "Conclusion\n",
    "Binary search is generally more efficient and performs faster than linear search for large and sorted datasets. However, linear search can be advantageous for small or unsorted datasets due to its simplicity and minimal requirements.'''"
   ]
  },
  {
   "cell_type": "code",
   "execution_count": 9,
   "id": "c718509e-0ec8-4e12-80fc-ec603c6ff49d",
   "metadata": {},
   "outputs": [
    {
     "name": "stdout",
     "output_type": "stream",
     "text": [
      "Linear Search: Found 3.95 at position 5\n"
     ]
    }
   ],
   "source": [
    "import pandas as pd\n",
    "\n",
    "# Load the dataset\n",
    "df = pd.read_csv('C:\\\\Users\\\\HP\\\\Documents\\\\TPtest\\\\Informal-Settlement-Matrix.csv')\n",
    "\n",
    "# Linear Search function\n",
    "def linear_search(arr, target):\n",
    "    pos = -1\n",
    "    for i in range(len(arr)):\n",
    "        if arr[i] == target:\n",
    "            pos = i\n",
    "            return True, pos\n",
    "    return False, pos\n",
    "\n",
    "# Searching for a specific element in 'avg_hhsize' column\n",
    "target_value = 3.95\n",
    "found, position = linear_search(df['avg_hhsize'].tolist(), target_value)\n",
    "\n",
    "if found:\n",
    "    print(f\"Linear Search: Found {target_value} at position {position}\")\n",
    "else:\n",
    "    print(f\"Linear Search: {target_value} not found\")"
   ]
  },
  {
   "cell_type": "code",
   "execution_count": 10,
   "id": "784247a3-e978-46dd-8927-d25593cc26f4",
   "metadata": {},
   "outputs": [
    {
     "name": "stdout",
     "output_type": "stream",
     "text": [
      "Binary Search: Found 3.95 at position 365 in the sorted list\n"
     ]
    }
   ],
   "source": [
    "# Binary Search function\n",
    "def binary_search(arr, target):\n",
    "    lower = 0\n",
    "    upper = len(arr) - 1\n",
    "    pos = -1\n",
    "\n",
    "    while lower <= upper:\n",
    "        mid = (lower + upper) // 2\n",
    "        if arr[mid] == target:\n",
    "            pos = mid\n",
    "            return True, pos\n",
    "        else:\n",
    "            if arr[mid] < target:\n",
    "                lower = mid + 1\n",
    "            else:\n",
    "                upper = mid - 1\n",
    "    return False, pos\n",
    "\n",
    "# Sorting the 'avg_hhsize' column for binary search\n",
    "sorted_avg_hhsize = sorted(df['avg_hhsize'].tolist())\n",
    "\n",
    "# Searching for a specific element in the sorted 'avg_hhsize' column\n",
    "found, position = binary_search(sorted_avg_hhsize, target_value)\n",
    "\n",
    "if found:\n",
    "    print(f\"Binary Search: Found {target_value} at position {position} in the sorted list\")\n",
    "else:\n",
    "    print(f\"Binary Search: {target_value} not found in the sorted list\")\n"
   ]
  },
  {
   "cell_type": "code",
   "execution_count": null,
   "id": "faa3df0b-8e0c-4dde-a6ff-b743245cb3e0",
   "metadata": {},
   "outputs": [],
   "source": []
  }
 ],
 "metadata": {
  "kernelspec": {
   "display_name": "Python 3 (ipykernel)",
   "language": "python",
   "name": "python3"
  },
  "language_info": {
   "codemirror_mode": {
    "name": "ipython",
    "version": 3
   },
   "file_extension": ".py",
   "mimetype": "text/x-python",
   "name": "python",
   "nbconvert_exporter": "python",
   "pygments_lexer": "ipython3",
   "version": "3.12.2"
  }
 },
 "nbformat": 4,
 "nbformat_minor": 5
}
