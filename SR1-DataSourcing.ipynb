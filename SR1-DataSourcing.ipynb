{
 "cells": [
  {
   "cell_type": "code",
   "execution_count": 3,
   "id": "acf4e313-72fc-440d-8862-57ab19ed8976",
   "metadata": {},
   "outputs": [
    {
     "data": {
      "text/plain": [
       "\"Struggle For Dignity In Cape Town’s Informal Settlements\\nDataset was Found (https://data.openup.org.za/dataset/informal-settlement-matrix-bky6-3za5)\\nDATA SOURCES\\nThe informal settlement map combines information from different datasets that were obtained from the City of Cape Town in 2015 via access to information requests (PAIA). Constraints - Hard copies of the constraints data were obtained from the City of Cape Town via PAIA.\\nThe Matrix - This is a database developed by the Human Settlements Directorate and contains various contextual data including informal settlement and pocket names, area and structure counts, estimate of household size, and the upgrade category. Obtained via PAIA.\\n\\nToilet counts - This is a database held by the Utilities Directorate and contains the GPS coordinates for flush toilets as well as a count of all toilets by location. Obtained via PAIA.\\n\\nJustification for Suitability\\n1. Data Completeness\\nThe dataset is comprehensive, covering various aspects of informal settlements:\\n\\nInformal Settlement and Pocket Names: Provides a unique identifier for each settlement, useful for location-specific analysis.\\nArea and Structure Counts: Offers insights into the size and density of settlements, crucial for demographic studies.\\nHousehold Size: Estimates household sizes, important for understanding population density and planning resources.\\nUpgrade Categories: Indicates the potential for upgrading settlements, relevant for development projects.\\nToilet Counts and Locations: Essential for evaluating sanitation facilities and infrastructure.\\n\\n2. Relevance\\nThe dataset is highly relevant for studying informal settlements in the City of Cape Town. It provides critical information that can be used to:\\n\\nAnalyze the living conditions within informal settlements.\\nIdentify areas most lacking in basic services such as sanitation.\\nCorrelate different variables to understand underlying issues and trends.\\nInform policymakers and stakeholders for better urban planning and resource allocation.\\n\\n3. Credibility of the Source\\nThe data's credibility is bolstered by its origins:\\n\\nCity of Cape Town: The data is obtained from official city records, ensuring its reliability and accuracy.\\nAccess to Information Requests (PAIA): The use of formal PAIA requests to gather data adds a layer of transparency and legitimacy.\\nHuman Settlements and Utilities Directorates: These directorates are authoritative bodies in the context of human settlements and utilities management, further enhancing the dataset's trustworthiness.\""
      ]
     },
     "execution_count": 3,
     "metadata": {},
     "output_type": "execute_result"
    }
   ],
   "source": [
    "'''Struggle For Dignity In Cape Town’s Informal Settlements\n",
    "Dataset was Found (https://data.openup.org.za/dataset/informal-settlement-matrix-bky6-3za5)\n",
    "DATA SOURCES\n",
    "The informal settlement map combines information from different datasets that were obtained from the City of Cape Town in 2015 via access to information requests (PAIA). Constraints - Hard copies of the constraints data were obtained from the City of Cape Town via PAIA.\n",
    "The Matrix - This is a database developed by the Human Settlements Directorate and contains various contextual data including informal settlement and pocket names, area and structure counts, estimate of household size, and the upgrade category. Obtained via PAIA.\n",
    "\n",
    "Toilet counts - This is a database held by the Utilities Directorate and contains the GPS coordinates for flush toilets as well as a count of all toilets by location. Obtained via PAIA.\n",
    "\n",
    "Justification for Suitability\n",
    "1. Data Completeness\n",
    "The dataset is comprehensive, covering various aspects of informal settlements:\n",
    "\n",
    "Informal Settlement and Pocket Names: Provides a unique identifier for each settlement, useful for location-specific analysis.\n",
    "Area and Structure Counts: Offers insights into the size and density of settlements, crucial for demographic studies.\n",
    "Household Size: Estimates household sizes, important for understanding population density and planning resources.\n",
    "Upgrade Categories: Indicates the potential for upgrading settlements, relevant for development projects.\n",
    "Toilet Counts and Locations: Essential for evaluating sanitation facilities and infrastructure.\n",
    "\n",
    "2. Relevance\n",
    "The dataset is highly relevant for studying informal settlements in the City of Cape Town. It provides critical information that can be used to:\n",
    "\n",
    "Analyze the living conditions within informal settlements.\n",
    "Identify areas most lacking in basic services such as sanitation.\n",
    "Correlate different variables to understand underlying issues and trends.\n",
    "Inform policymakers and stakeholders for better urban planning and resource allocation.\n",
    "\n",
    "3. Credibility of the Source\n",
    "The data's credibility is bolstered by its origins:\n",
    "\n",
    "City of Cape Town: The data is obtained from official city records, ensuring its reliability and accuracy.\n",
    "Access to Information Requests (PAIA): The use of formal PAIA requests to gather data adds a layer of transparency and legitimacy.\n",
    "Human Settlements and Utilities Directorates: These directorates are authoritative bodies in the context of human settlements and utilities management, further enhancing the dataset's trustworthiness.'''"
   ]
  },
  {
   "cell_type": "code",
   "execution_count": null,
   "id": "bfdea29b-f1f8-40ff-a92e-4e3fff75f7be",
   "metadata": {},
   "outputs": [],
   "source": []
  }
 ],
 "metadata": {
  "kernelspec": {
   "display_name": "Python 3 (ipykernel)",
   "language": "python",
   "name": "python3"
  },
  "language_info": {
   "codemirror_mode": {
    "name": "ipython",
    "version": 3
   },
   "file_extension": ".py",
   "mimetype": "text/x-python",
   "name": "python",
   "nbconvert_exporter": "python",
   "pygments_lexer": "ipython3",
   "version": "3.12.2"
  }
 },
 "nbformat": 4,
 "nbformat_minor": 5
}
