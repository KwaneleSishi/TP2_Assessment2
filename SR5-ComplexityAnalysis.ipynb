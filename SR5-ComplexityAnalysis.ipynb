{
 "cells": [
  {
   "cell_type": "code",
   "execution_count": 3,
   "id": "01c650ce-8131-4cf7-9511-f0c04d2eeca3",
   "metadata": {},
   "outputs": [
    {
     "data": {
      "text/plain": [
       "'\\tSR 5: Complexity Analysis: (5 marks):\\n   Choose one algorithm that you wrote in SR 4.1 or SR 4.2 to explain the time and space complexity of your implemented algorithms. Explain the efficiency of the algorithms in terms of their Big-O notation. You must use a markdown cell for this question.\\n'"
      ]
     },
     "execution_count": 3,
     "metadata": {},
     "output_type": "execute_result"
    }
   ],
   "source": [
    " '''\tSR 5: Complexity Analysis: (5 marks):\n",
    "    Choose one algorithm that you wrote in SR 4.1 or SR 4.2 to explain the time and space complexity of your implemented algorithms. Explain the efficiency of the algorithms in terms of their Big-O notation. You must use a markdown cell for this question.\n",
    "'''"
   ]
  },
  {
   "cell_type": "code",
   "execution_count": 5,
   "id": "49c19805-8a2a-4c35-a129-c4c154a5f460",
   "metadata": {},
   "outputs": [
    {
     "data": {
      "text/plain": [
       "'Explanation of SR 4.1 Insertion Sort: Time and Space Complexity\\nInsertion Sort\\nDefinition:\\nInsertion Sort is a simple and intuitive sorting algorithm that builds the final sorted array (or list) one item at a time. It is much like sorting playing cards in your hands; you take one card at a time and insert it into its correct position among the cards already sorted.\\n\\nHow It Works:\\n\\nStart with the second element (the first element is trivially sorted).\\nCompare the current element with the elements before it.\\nMove the greater elements one position up to make space for the swapped element.\\nInsert the current element into its correct position.\\nRepeat until the entire list is sorted.\\n\\nTime Complexity:\\n\\nBest Case (O(n)): The best case occurs when the array is already sorted. The algorithm simply passes through the array once, making no swaps.\\nAverage Case (O(n^2)): In the average case, the algorithm needs to compare each element with half of the preceding elements on average.\\nWorst Case (O(n^2)): The worst case occurs when the array is sorted in reverse order. Each element must be compared with every other element before it, leading to a quadratic number of comparisons and swaps.\\nSpace Complexity:\\n\\nO(1): Insertion Sort is an in-place sorting algorithm, meaning it requires a constant amount of extra space regardless of the input size.\\nEfficiency in Big-O Notation:\\n\\nO(n) for the best case.\\nO(n^2) for the average and worst cases.\\n'"
      ]
     },
     "execution_count": 5,
     "metadata": {},
     "output_type": "execute_result"
    }
   ],
   "source": [
    "\n",
    "'''Explanation of SR 4.1 Insertion Sort: Time and Space Complexity\n",
    "Insertion Sort\n",
    "Definition:\n",
    "Insertion Sort is a simple and intuitive sorting algorithm that builds the final sorted array (or list) one item at a time. It is much like sorting playing cards in your hands; you take one card at a time and insert it into its correct position among the cards already sorted.\n",
    "\n",
    "How It Works:\n",
    "\n",
    "Start with the second element (the first element is trivially sorted).\n",
    "Compare the current element with the elements before it.\n",
    "Move the greater elements one position up to make space for the swapped element.\n",
    "Insert the current element into its correct position.\n",
    "Repeat until the entire list is sorted.\n",
    "\n",
    "Time Complexity:\n",
    "\n",
    "Best Case (O(n)): The best case occurs when the array is already sorted. The algorithm simply passes through the array once, making no swaps.\n",
    "Average Case (O(n^2)): In the average case, the algorithm needs to compare each element with half of the preceding elements on average.\n",
    "Worst Case (O(n^2)): The worst case occurs when the array is sorted in reverse order. Each element must be compared with every other element before it, leading to a quadratic number of comparisons and swaps.\n",
    "Space Complexity:\n",
    "\n",
    "O(1): Insertion Sort is an in-place sorting algorithm, meaning it requires a constant amount of extra space regardless of the input size.\n",
    "Efficiency in Big-O Notation:\n",
    "\n",
    "O(n) for the best case.\n",
    "O(n^2) for the average and worst cases.\n",
    "'''"
   ]
  },
  {
   "cell_type": "code",
   "execution_count": null,
   "id": "a7f557c8-43b7-4a74-b234-5e7c56cfeadb",
   "metadata": {},
   "outputs": [],
   "source": []
  }
 ],
 "metadata": {
  "kernelspec": {
   "display_name": "Python 3 (ipykernel)",
   "language": "python",
   "name": "python3"
  },
  "language_info": {
   "codemirror_mode": {
    "name": "ipython",
    "version": 3
   },
   "file_extension": ".py",
   "mimetype": "text/x-python",
   "name": "python",
   "nbconvert_exporter": "python",
   "pygments_lexer": "ipython3",
   "version": "3.12.2"
  }
 },
 "nbformat": 4,
 "nbformat_minor": 5
}
